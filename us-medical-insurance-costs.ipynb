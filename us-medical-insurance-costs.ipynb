{
 "cells": [
  {
   "cell_type": "markdown",
   "metadata": {},
   "source": [
    "# U.S. Medical Insurance Costs\n",
    "\n",
    "In this project, a CSV file containing medical insurance information for the US will be analyzed. The goal will be to analyze averages by **region**, to potentially see how age, number of children and BMI varies between them. Does location play a potential factor in your insurance cost?\n"
   ]
  },
  {
   "cell_type": "code",
   "execution_count": 1,
   "metadata": {},
   "outputs": [],
   "source": [
    "#Import CSV library\n",
    "import csv"
   ]
  },
  {
   "cell_type": "markdown",
   "metadata": {},
   "source": [
    "We'll need the `csv` library in order to have access the functions necessary to open the **insurance.csv** file that contains our data. \n",
    "\n",
    "Upon examining this file, we see that there are seven columns:\n",
    "- Age\n",
    "- Sex\n",
    "- BMI\n",
    "- Number of children\n",
    "- Smoker status\n",
    "- Region\n",
    "- Charges (Cost)\n",
    "\n",
    "By analyzing the data in this file, we will be able to calculate averages by region."
   ]
  },
  {
   "cell_type": "code",
   "execution_count": 2,
   "metadata": {},
   "outputs": [],
   "source": [
    "#Create lists that will eventually contain all the data from our insurance.csv file\n",
    "ages = []\n",
    "sex = []\n",
    "bmis = []\n",
    "num_children = []\n",
    "smoker = []\n",
    "regions = []\n",
    "insurance_costs = []"
   ]
  },
  {
   "cell_type": "markdown",
   "metadata": {},
   "source": [
    "With our lists created, we can move on to opening the file in order to populate these lists."
   ]
  },
  {
   "cell_type": "code",
   "execution_count": 3,
   "metadata": {},
   "outputs": [],
   "source": [
    "#As the file already contains headers, it's not necessary to indicate a fieldnames argument for DictReader\n",
    "with open('insurance.csv', newline='') as insurance_file:\n",
    "    insurance_reader = csv.DictReader(insurance_file)\n",
    "    for row in insurance_reader:\n",
    "        ages.append(row['age'])\n",
    "        sex.append(row['sex'])\n",
    "        bmis.append(row['bmi'])\n",
    "        num_children.append(row['children'])\n",
    "        smoker.append(row['smoker'])\n",
    "        regions.append(row['region'])\n",
    "        insurance_costs.append(row['charges'])"
   ]
  },
  {
   "cell_type": "markdown",
   "metadata": {},
   "source": [
    "The code here opens the file **insurance.csv**, then using `csv.DictReader` we can create a dictionary that will allow us to assign our data to the appropriate lists by using keys that represent each column in the original file. From here we can start manipulating our data. Since our goal is to find averages by **region**, the first thing we will do is create a dictionary that will accomplish this goal. This dictionary will use the region as the **key**, and then contain a **list** that has individual data contained within **tuples**."
   ]
  },
  {
   "cell_type": "code",
   "execution_count": 12,
   "metadata": {},
   "outputs": [],
   "source": [
    "insurance_by_region = {}\n",
    "for insurance_data in zip(ages, sex, bmis, num_children, smoker, regions, insurance_costs):\n",
    "    if insurance_data[5] in insurance_by_region:\n",
    "        insurance_by_region[insurance_data[5]].append((insurance_data[0], insurance_data[1],\\\n",
    "                                                       insurance_data[2], insurance_data[3],\\\n",
    "                                                       insurance_data[4], insurance_data[6]))\n",
    "    else:\n",
    "        insurance_by_region[insurance_data[5]] = [(insurance_data[0], insurance_data[1],\\\n",
    "                                                   insurance_data[2], insurance_data[3],\\\n",
    "                                                   insurance_data[4], insurance_data[6])]"
   ]
  },
  {
   "cell_type": "markdown",
   "metadata": {},
   "source": [
    "Though the data at this point if printed would be difficult to parse by eye, it can easily be seen that it's been successfully divided into regions. Now that we have these values by region, we can start defining the functions that will manipulate this data so we can analyze it."
   ]
  },
  {
   "cell_type": "markdown",
   "metadata": {},
   "source": [
    "## Functions\n",
    "\n",
    "We can begin with something simple, such as calculating average insurance cost by region. This will serve as a base that we can use it to compare other average values to. It's useful to know the indices for each type of data in order to understand the functions better:\n",
    "- Age (0)\n",
    "- Sex (1)\n",
    "- BMI (2)\n",
    "- Number of Children (3)\n",
    "- Smoker (4)\n",
    "- Insurance cost (5)"
   ]
  },
  {
   "cell_type": "code",
   "execution_count": 5,
   "metadata": {},
   "outputs": [],
   "source": [
    "def average_cost_by_region(insurance_data, region):\n",
    "    total_cost = 0.0\n",
    "    for data in insurance_data[region]:\n",
    "        total_cost += float(data[5])\n",
    "    average_cost = round(total_cost / len(insurance_data[region]), 2)\n",
    "    return average_cost"
   ]
  },
  {
   "cell_type": "markdown",
   "metadata": {},
   "source": [
    "### Average cost by region\n",
    "This function takes two parameters: `insurance_data` and `region`, one will be the dictionary that was created previously and divided by **region**, the other will be the region itself passed as a string. We can then iterate through the dictionary keys to be able to compare their averages."
   ]
  },
  {
   "cell_type": "code",
   "execution_count": 6,
   "metadata": {},
   "outputs": [
    {
     "name": "stdout",
     "output_type": "stream",
     "text": [
      "The average insurance cost for the southwest region is: $12346.94.\n",
      "The average insurance cost for the southeast region is: $14735.41.\n",
      "The average insurance cost for the northwest region is: $12417.58.\n",
      "The average insurance cost for the northeast region is: $13406.38.\n"
     ]
    }
   ],
   "source": [
    "for region in insurance_by_region.keys():\n",
    "    average_cost = average_cost_by_region(insurance_by_region, region)\n",
    "    print('The average insurance cost for the {r} region is: ${c}.'.format(r=region, c=average_cost))"
   ]
  },
  {
   "cell_type": "markdown",
   "metadata": {},
   "source": [
    "We now know that on average, the **southeast** region spends the most on insurance costs. We can average other data in this region and others to try to find out why that may be. Does that region have more smokers? Do people there have more children on average? Are they older? Is their BMI higher? Similarly, we can try to figure out why, on average, the **northwest** region pays less on insurance costs. I'll create several similar functions here to find the average of other data sets."
   ]
  },
  {
   "cell_type": "code",
   "execution_count": 7,
   "metadata": {},
   "outputs": [],
   "source": [
    "def average_age_by_region(insurance_data, region):\n",
    "    total_age = 0\n",
    "    for data in insurance_data[region]:\n",
    "        total_age += int(data[0])\n",
    "    average_age = round(total_age / len(insurance_data[region]), 2)\n",
    "    return average_age"
   ]
  },
  {
   "cell_type": "markdown",
   "metadata": {},
   "source": [
    "### Average age by region\n",
    "Similar to the previous function, this will return the average **age** per region."
   ]
  },
  {
   "cell_type": "code",
   "execution_count": 8,
   "metadata": {},
   "outputs": [],
   "source": [
    "def average_bmi_by_region(insurance_data, region):\n",
    "    total_bmi = 0\n",
    "    for data in insurance_data[region]:\n",
    "        total_bmi += float(data[2])\n",
    "    average_bmi = round(total_bmi / len(insurance_data[region]), 2)\n",
    "    return average_bmi    "
   ]
  },
  {
   "cell_type": "markdown",
   "metadata": {},
   "source": [
    "### Average BMI by region\n",
    "Once more, a very similar function that will return the average **BMI** by region."
   ]
  },
  {
   "cell_type": "code",
   "execution_count": 9,
   "metadata": {},
   "outputs": [],
   "source": [
    "def average_children_by_region(insurance_data, region):\n",
    "    total_children = 0\n",
    "    for data in insurance_data[region]:\n",
    "        total_children += int(data[3])\n",
    "    average_children = round(total_children / len(insurance_data[region]), 2)\n",
    "    return average_children"
   ]
  },
  {
   "cell_type": "markdown",
   "metadata": {},
   "source": [
    "### Average number of children by region\n",
    "This function is once again identical to the last."
   ]
  },
  {
   "cell_type": "code",
   "execution_count": 10,
   "metadata": {},
   "outputs": [],
   "source": [
    "def smokers_by_region(insurance_data, region):\n",
    "    total_smokers = 0\n",
    "    for data in insurance_data[region]:\n",
    "        if data[4] == 'yes':\n",
    "            total_smokers += 1\n",
    "    return total_smokers"
   ]
  },
  {
   "cell_type": "markdown",
   "metadata": {},
   "source": [
    "### Total number of smokers by region\n",
    "Once again we have a slight change in this function in that it calculates total amount of **smokers**, not an average. We simply want to know how many people in that region smoke, as being a smoker can be a significant factor in insurance cost."
   ]
  },
  {
   "cell_type": "markdown",
   "metadata": {},
   "source": [
    "## Analysis\n",
    "We have all the functions we need to analyze the data. In order to do this, we'll create yet another dictionary. This dictionary will once again have the regions as the keys, but this time, the value will be a simple list that contains either **averages** or **total amount** measured by the functions defined above. With this dictionary, we can simply compare the regional averages and see if there's any factor that stands out as a potential reason for higher costs in a region."
   ]
  },
  {
   "cell_type": "code",
   "execution_count": 11,
   "metadata": {},
   "outputs": [],
   "source": [
    "averages_by_region = {}\n",
    "for region in insurance_by_region.keys():\n",
    "    average_age = average_age_by_region(insurance_by_region, region)\n",
    "    average_bmi = average_bmi_by_region(insurance_by_region, region)\n",
    "    average_children = average_children_by_region(insurance_by_region, region)\n",
    "    total_smokers = smokers_by_region(insurance_by_region, region)\n",
    "    average_cost = average_cost_by_region(insurance_by_region, region)\n",
    "    averages_by_region[region] = [average_age, average_bmi, average_children, total_smokers, average_cost]"
   ]
  },
  {
   "cell_type": "markdown",
   "metadata": {},
   "source": [
    "With our **averages** and **totals** saved to a new dictionary, it's much easier to read the data. Let's print it out so we can see which factors (if any) play a role in increased prices for a particular region."
   ]
  },
  {
   "cell_type": "code",
   "execution_count": 18,
   "metadata": {},
   "outputs": [
    {
     "name": "stdout",
     "output_type": "stream",
     "text": [
      "The southwest region is on average 39.46 years old, has an average BMI of 30.6, an average of 1.14 children, a total of 58 smokers and an average insurance cost of $12346.94.\n",
      "The southeast region is on average 38.94 years old, has an average BMI of 33.36, an average of 1.05 children, a total of 91 smokers and an average insurance cost of $14735.41.\n",
      "The northwest region is on average 39.2 years old, has an average BMI of 29.2, an average of 1.15 children, a total of 58 smokers and an average insurance cost of $12417.58.\n",
      "The northeast region is on average 39.27 years old, has an average BMI of 29.17, an average of 1.05 children, a total of 67 smokers and an average insurance cost of $13406.38.\n"
     ]
    }
   ],
   "source": [
    "for region, data in averages_by_region.items():\n",
    "    print('The {r} region is on average {a} years old, has an average BMI of {bmi}, an average of {c} children, a total of {s} smokers and an average insurance cost of ${cost}.'\\\n",
    "         .format(r=region, a=data[0], bmi=data[1], c=data[2], s=data[3], cost=data[4]))"
   ]
  },
  {
   "cell_type": "markdown",
   "metadata": {},
   "source": [
    "## Conclusion\n",
    "Though other potential factors could be at play, there is a very clear observation that can be made from this: the amount of **smokers** in a region significantly increase the average insurance cost. We can observe how the **southeast** region leads all other regions in the amount of total smokers and the amount paid on average on insurance. We can also observe that despite the **southwest** having a higher average BMI, being slightly older on average, and having slightly more children on average *still manages to pay less on average than the **northeast** region, simply because they have fewer smokers*.\n",
    "\n",
    "## Limitations\n",
    "Sex was not considered at all during these observations. It's possible that because women often pay more for insurance on average, that some of these observations could change if further divided by gender."
   ]
  }
 ],
 "metadata": {
  "kernelspec": {
   "display_name": "Python 3",
   "language": "python",
   "name": "python3"
  },
  "language_info": {
   "codemirror_mode": {
    "name": "ipython",
    "version": 3
   },
   "file_extension": ".py",
   "mimetype": "text/x-python",
   "name": "python",
   "nbconvert_exporter": "python",
   "pygments_lexer": "ipython3",
   "version": "3.8.8"
  }
 },
 "nbformat": 4,
 "nbformat_minor": 4
}
